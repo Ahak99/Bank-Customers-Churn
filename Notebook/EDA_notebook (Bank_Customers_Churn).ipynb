{
  "cells": [
    {
      "cell_type": "markdown",
      "metadata": {
        "id": "1e233234"
      },
      "source": [
        "### Bank Customers Churn"
      ]
    },
    {
      "cell_type": "markdown",
      "metadata": {
        "id": "62e05101"
      },
      "source": [
        "#### Life cycle of Machine learning Project\n",
        "\n",
        "- Understanding the Problem Statement\n",
        "- Data Collection\n",
        "- Data Checks to perform\n",
        "- Exploratory data analysis\n",
        "- Conclusion"
      ]
    },
    {
      "cell_type": "markdown",
      "metadata": {
        "id": "dfcea981"
      },
      "source": [
        "### 1) Problem statement\n",
        "- Every bank wants to hold there customers for sustaining their business so the ABC Multinational bank.\n",
        "\n",
        "- Below is the customer data of account holders at ABC Multinational Bank and the aim of the data will be predicting the Customer Churn."
      ]
    },
    {
      "cell_type": "markdown",
      "metadata": {
        "id": "iCb0t09nl3U1"
      },
      "source": [
        "### 2) Data Collection\n",
        "- Dataset Source - https://www.kaggle.com/datasets/gauravtopre/bank-customer-churn-dataset/data\n",
        "\n",
        "- The data consists of 12 column and 10000 rows."
      ]
    },
    {
      "cell_type": "markdown",
      "metadata": {
        "id": "jk6Vyn2jmBdA"
      },
      "source": [
        "### 2.1 Import Data and Required Packages\n",
        "####  Importing Pandas, Numpy, Matplotlib, Seaborn and Warings Library."
      ]
    },
    {
      "cell_type": "code",
      "execution_count": null,
      "metadata": {
        "id": "4RnSxvsJuO_A"
      },
      "outputs": [],
      "source": [
        "import numpy as np\n",
        "import pandas as pd\n",
        "import seaborn as sns\n",
        "import matplotlib.pyplot as plt\n",
        "%matplotlib inline\n",
        "import warnings\n",
        "warnings.filterwarnings('ignore')"
      ]
    },
    {
      "cell_type": "code",
      "execution_count": null,
      "metadata": {
        "id": "DlntIipmjQ67"
      },
      "outputs": [],
      "source": [
        "import pandas as pd\n",
        "import matplotlib.pyplot as plt\n",
        "import numpy\n",
        "from scipy.stats import uniform, randint\n",
        "\n",
        "from sklearn.model_selection import train_test_split, RandomizedSearchCV\n",
        "from sklearn.metrics import mean_squared_error, f1_score, precision_score, recall_score, accuracy_score\n",
        "\n",
        "from tensorflow import keras\n",
        "from tensorflow.keras.models import Sequential\n",
        "from tensorflow.keras.layers import Dense, Activation, Dropout, Flatten\n",
        "from tensorflow.keras.optimizers import SGD, Adam\n",
        "\n",
        "import xgboost as xgb\n",
        "from sklearn.svm import SVC\n",
        "# from sklearn.model_selection import cross_val_score, GridSearchCV, KFold, RandomizedSearchCV, train_test_split\n",
        "\n",
        "import pickle"
      ]
    },
    {
      "cell_type": "markdown",
      "metadata": {
        "id": "kT7q4DzvmKrw"
      },
      "source": [
        "#### Import the CSV Data as Pandas DataFrame"
      ]
    },
    {
      "cell_type": "markdown",
      "metadata": {
        "id": "s-PCrlItmMeq"
      },
      "source": [
        "### **2.1.1. Connect to kaggle**"
      ]
    },
    {
      "cell_type": "code",
      "execution_count": null,
      "metadata": {
        "id": "ABCW973hc1Zw"
      },
      "outputs": [],
      "source": [
        "!mkdir ~/.kaggle"
      ]
    },
    {
      "cell_type": "code",
      "execution_count": null,
      "metadata": {
        "id": "ll-idTBzgCn5"
      },
      "outputs": [],
      "source": [
        "!cp kaggle.json ~/.kaggle/"
      ]
    },
    {
      "cell_type": "code",
      "execution_count": null,
      "metadata": {
        "id": "LOqsc2hQgD-F"
      },
      "outputs": [],
      "source": [
        "!chmod 600 ~/.kaggle/kaggle.json"
      ]
    },
    {
      "cell_type": "code",
      "execution_count": null,
      "metadata": {
        "id": "vR97VAiggFbM"
      },
      "outputs": [],
      "source": [
        "!kaggle datasets download \"gauravtopre/bank-customer-churn-dataset\""
      ]
    },
    {
      "cell_type": "code",
      "execution_count": null,
      "metadata": {
        "id": "rPdUaJKZglYU"
      },
      "outputs": [],
      "source": [
        "!unzip /content/bank-customer-churn-dataset.zip"
      ]
    },
    {
      "cell_type": "markdown",
      "metadata": {
        "id": "iMuYc6Lxmdp8"
      },
      "source": [
        "### **2.1.2. Read Data**"
      ]
    },
    {
      "cell_type": "code",
      "execution_count": null,
      "metadata": {
        "id": "uCGQcmYMBwuZ"
      },
      "outputs": [],
      "source": [
        "data = pd.read_csv(\"/content/Bank Customer Churn Prediction.csv\")"
      ]
    },
    {
      "cell_type": "markdown",
      "metadata": {
        "id": "xBX3p8G2mvot"
      },
      "source": [
        "#### Show Top 5 Records"
      ]
    },
    {
      "cell_type": "code",
      "execution_count": null,
      "metadata": {
        "id": "RWrlsgAymyXj"
      },
      "outputs": [],
      "source": [
        "data.head()"
      ]
    },
    {
      "cell_type": "markdown",
      "metadata": {
        "id": "odmXunBvntzU"
      },
      "source": [
        "#### Shape of the dataset"
      ]
    },
    {
      "cell_type": "code",
      "execution_count": null,
      "metadata": {
        "id": "X3M17unynidl"
      },
      "outputs": [],
      "source": [
        "data.shape"
      ]
    },
    {
      "cell_type": "markdown",
      "metadata": {
        "id": "ZoKoSTREn-ej"
      },
      "source": [
        "### 2.2 Dataset information"
      ]
    },
    {
      "cell_type": "markdown",
      "metadata": {
        "id": "sThhtsI9oHT_"
      },
      "source": [
        "- **customer_id :** Account Number `(unused variable)`.\n",
        "- **credit_score :** Credit Score `(used as input)`.\n",
        "- **country :** Country of Residence `(used as input)`.\n",
        "- **gender :** Sex [Male or Female] `(used as input)`.\n",
        "- **age :** Age `(used as input)`.\n",
        "- **tenure :** From how many years he/she is having bank acc in ABC Bank `(used as input)`.\n",
        "- **balance :** Account Balance `(used as input)`.\n",
        "- **products_number :** Number of Product from bank `(used as input)`.\n",
        "- **credit_card :** Is this customer have credit card ? `(used as input)`.\n",
        "- **active_member :** Is he/she is active Member of bank ? `(used as input)`.\n",
        "- **estimated_salary :** Salary of Account holder `(used as input)`.\n",
        "- **churn :** Churn Status, 1 if the client has left the bank during some period or 0 if he/she has not `(used as the target)`."
      ]
    },
    {
      "cell_type": "markdown",
      "metadata": {
        "id": "2yJMSv0Uq19u"
      },
      "source": [
        "### 2.3 Dataset preparation"
      ]
    },
    {
      "cell_type": "markdown",
      "metadata": {
        "id": "3KFv7Z6nm4DO"
      },
      "source": [
        "- In our study, we won't take the following column (\"CustomerId\").\n",
        "- So, I'll delete them"
      ]
    },
    {
      "cell_type": "code",
      "execution_count": null,
      "metadata": {
        "id": "3K7BDo1wm4__"
      },
      "outputs": [],
      "source": [
        "data.drop(\"customer_id\", axis=1, inplace=True)\n",
        "data.head()"
      ]
    },
    {
      "cell_type": "markdown",
      "metadata": {
        "id": "aK911OPvrBAd"
      },
      "source": [
        "### 3) Data Checks to perform\n",
        "\n",
        "- Check Missing values\n",
        "- Check Duplicates\n",
        "- Check data type\n",
        "- Check the number of unique values of each column\n",
        "- Check statistics of data set\n",
        "- Check various categories present in the different categorical column"
      ]
    },
    {
      "cell_type": "markdown",
      "metadata": {
        "id": "y_vRAeVzrDMY"
      },
      "source": [
        "### 3.1 Check Missing values"
      ]
    },
    {
      "cell_type": "code",
      "execution_count": null,
      "metadata": {
        "id": "2O-V2TLtnian"
      },
      "outputs": [],
      "source": [
        "data.isna().sum()"
      ]
    },
    {
      "cell_type": "markdown",
      "metadata": {
        "id": "G3I_hHtbrIcm"
      },
      "source": [
        "**Insight :**\n",
        "- There is no missing values in the dataset, **WE ARE READY TO GO**"
      ]
    },
    {
      "cell_type": "markdown",
      "metadata": {
        "id": "7dzimnysrQH2"
      },
      "source": [
        "### 3.2 Check Duplicates"
      ]
    },
    {
      "cell_type": "code",
      "execution_count": null,
      "metadata": {
        "id": "H7Ie1JhAniY-"
      },
      "outputs": [],
      "source": [
        "data.duplicated().sum()"
      ]
    },
    {
      "cell_type": "markdown",
      "metadata": {
        "id": "fT0N_oS0rVhO"
      },
      "source": [
        "**Insight :**\n",
        "- There is no duplicates values in the dataset, now **WE ARE READY TO GO**"
      ]
    },
    {
      "cell_type": "markdown",
      "metadata": {
        "id": "xMjldA6Crjcn"
      },
      "source": [
        "### 3.3 Check data types"
      ]
    },
    {
      "cell_type": "code",
      "execution_count": null,
      "metadata": {
        "id": "wS9GbODUniW2"
      },
      "outputs": [],
      "source": [
        "data.info()"
      ]
    },
    {
      "cell_type": "markdown",
      "metadata": {
        "id": "EVnRTzWbrq0P"
      },
      "source": [
        "### 3.4 Checking the number of unique values of each column"
      ]
    },
    {
      "cell_type": "code",
      "execution_count": null,
      "metadata": {
        "id": "7NSJkuX_niUw"
      },
      "outputs": [],
      "source": [
        "data.nunique()"
      ]
    },
    {
      "cell_type": "markdown",
      "metadata": {
        "id": "3Pdh59oVrurg"
      },
      "source": [
        "### 3.5 Check statistics of data set"
      ]
    },
    {
      "cell_type": "code",
      "execution_count": null,
      "metadata": {
        "id": "XWRl8qoqniSy"
      },
      "outputs": [],
      "source": [
        "data.describe()"
      ]
    },
    {
      "cell_type": "markdown",
      "metadata": {
        "id": "ghzuPvH4sNJh"
      },
      "source": [
        "### 3.6 Exploring Data"
      ]
    },
    {
      "cell_type": "code",
      "execution_count": null,
      "metadata": {
        "id": "ZsrQtpXjniQZ"
      },
      "outputs": [],
      "source": [
        "# define numerical & categorical columns\n",
        "numeric_features = [feature for feature in data.columns if data[feature].dtype != 'O']\n",
        "categorical_features = [feature for feature in data.columns if data[feature].dtype == 'O']\n",
        "\n",
        "# print columns\n",
        "print('We have {} numerical features : {}'.format(len(numeric_features), numeric_features))\n",
        "print('\\nWe have {} categorical features : {}'.format(len(categorical_features), categorical_features))"
      ]
    },
    {
      "cell_type": "code",
      "execution_count": null,
      "metadata": {
        "id": "lZm4TWOgniOI"
      },
      "outputs": [],
      "source": [
        "print(f\"Categories in 'country' variable: {data['country'].unique()}\")\n",
        "\n",
        "print(f\"Categories in 'gender' variable:  {data['gender'].unique()}\")"
      ]
    },
    {
      "cell_type": "markdown",
      "metadata": {
        "id": "OkKHqLF_uDOx"
      },
      "source": [
        "### 4) Exploring Data ( Visualization )"
      ]
    },
    {
      "cell_type": "markdown",
      "metadata": {
        "id": "CJoQD0WIuE0s"
      },
      "source": [
        "#### 4.1. Correlation"
      ]
    },
    {
      "cell_type": "code",
      "execution_count": null,
      "metadata": {
        "id": "HeFSHpCuniMV"
      },
      "outputs": [],
      "source": [
        "sns.heatmap(data.corr(), cmap=\"YlGnBu\", annot=True)"
      ]
    },
    {
      "cell_type": "markdown",
      "metadata": {
        "id": "Q7pouJ5Kum1v"
      },
      "source": [
        "**Insights :**\n",
        "- The correlation between variables is very low.\n",
        "- We can see that there is a relationship between our target (churn) and age, but it is weak to be taken into account."
      ]
    },
    {
      "cell_type": "markdown",
      "metadata": {
        "id": "_Af0PhHQ1_R_"
      },
      "source": [
        "#### 4.2. Balanced or unbalanced data"
      ]
    },
    {
      "cell_type": "code",
      "execution_count": null,
      "metadata": {
        "id": "k1a8X1P-niJ8"
      },
      "outputs": [],
      "source": [
        "count = data.churn.value_counts().values\n",
        "churn = list(data.churn.value_counts().index)"
      ]
    },
    {
      "cell_type": "code",
      "execution_count": null,
      "metadata": {
        "id": "0SdrFKAH3s6t"
      },
      "outputs": [],
      "source": [
        "print(count)\n",
        "print(churn)"
      ]
    },
    {
      "cell_type": "code",
      "execution_count": null,
      "metadata": {
        "id": "W7yYMcFdniHH"
      },
      "outputs": [],
      "source": [
        "fig = plt.figure(figsize = (5, 5))\n",
        "\n",
        "# creating the bar plot\n",
        "plt.bar(churn, count, color=['red', 'green'],\n",
        "        width = 0.5)\n",
        "\n",
        "plt.xlabel(\"Churn status\")\n",
        "plt.ylabel(\"Count\")\n",
        "plt.title(\"Churn status distribution\")\n",
        "plt.xticks(churn, ['Not Churned (0)', 'Churned (1)'])\n",
        "plt.show()"
      ]
    },
    {
      "cell_type": "markdown",
      "metadata": {
        "id": "UXx57qxw4ZuH"
      },
      "source": [
        "**Insight :**\n",
        "- In our dataset the target class is well unbalanced.\n",
        "- The accuracy metric will not reflect our model performance."
      ]
    }
  ],
  "metadata": {
    "colab": {
      "private_outputs": true,
      "provenance": []
    },
    "kernelspec": {
      "display_name": "Python 3",
      "name": "python3"
    },
    "language_info": {
      "name": "python"
    }
  },
  "nbformat": 4,
  "nbformat_minor": 0
}
